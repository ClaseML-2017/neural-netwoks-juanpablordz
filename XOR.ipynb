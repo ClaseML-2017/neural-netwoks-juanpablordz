{
 "cells": [
  {
   "cell_type": "code",
   "execution_count": 196,
   "metadata": {
    "collapsed": true
   },
   "outputs": [],
   "source": [
    "import tensorflow as tf\n",
    "import numpy as np\n",
    "import matplotlib.pyplot as plt\n"
   ]
  },
  {
   "cell_type": "code",
   "execution_count": 197,
   "metadata": {},
   "outputs": [],
   "source": [
    "X=np.asarray([[0,0],[0,1],[1,0],[1,1]])\n",
    "Y=np.asarray([[0],[1],[1],[0]])"
   ]
  },
  {
   "cell_type": "markdown",
   "metadata": {},
   "source": [
    "Declaracion de Variables"
   ]
  },
  {
   "cell_type": "code",
   "execution_count": 216,
   "metadata": {},
   "outputs": [],
   "source": [
    "input_size = 2\n",
    "output_layer_size = 1\n",
    "middle_size = 2\n",
    "\n",
    "#input and output\n",
    "x = tf.placeholder(tf.float32,[None, input_size])\n",
    "#y es la prediccion de y_\n",
    "#y_ son los datos de y\n",
    "y_ = tf.placeholder(tf.float32,[None, output_layer_size])\n",
    "\n",
    "##cambios\n",
    "W_layer1 = tf.Variable(tf.random_uniform([input_size,middle_size], -1, 1), name=\"W_layer1\")\n",
    "b_layer1 = tf.Variable(tf.zeros([middle_size]), name=\"b_layer1\") #puede ser error\n",
    "\n",
    "W_layer2 = tf.Variable(tf.random_uniform([middle_size,middle_size], -1, 1), name=\"W_layer2\")\n",
    "b_layer2 = tf.Variable(tf.zeros([middle_size]), name=\"b_layer2\")\n",
    "\n",
    "W_layer3 = tf.Variable(tf.random_uniform([middle_size,output_layer_size], -1, 1), name=\"W_layer3\")\n",
    "b_layer3 = tf.Variable(tf.zeros([output_layer_size]), name=\"b_layer3\")"
   ]
  },
  {
   "cell_type": "code",
   "execution_count": null,
   "metadata": {
    "collapsed": true
   },
   "outputs": [],
   "source": []
  },
  {
   "cell_type": "code",
   "execution_count": 219,
   "metadata": {},
   "outputs": [],
   "source": [
    "hidden1 = tf.nn.sigmoid(tf.matmul(x,W_layer1)+b_layer1) #la de nuestra\n",
    "#hidden1 = tf.nn.sigmoid(tf.matmul(input1,W_layer2)+b_layer2) #la de nuestra\n",
    "y = tf.nn.sigmoid(tf.matmul(hidden1,W_layer3)+b_layer3) #la de nuestra\n",
    "lossfn = tf.reduce_mean(tf.reduce_sum((y_-y)**2)) #cuadratico\n",
    "#lossfn= tf.reduce_mean(( (y_ * tf.log(y)) +  \n",
    " # ((1 - y_) * tf.log(1.0 - y)) ) * -1) # cross entropy\n",
    "train_step = tf.train.GradientDescentOptimizer(0.01).minimize(lossfn)\n",
    "\n"
   ]
  },
  {
   "cell_type": "code",
   "execution_count": 220,
   "metadata": {
    "collapsed": true
   },
   "outputs": [],
   "source": [
    "init = tf.global_variables_initializer()\n",
    "sess = tf.Session() # tipo de sesion, puede ser interactiva"
   ]
  },
  {
   "cell_type": "code",
   "execution_count": 229,
   "metadata": {},
   "outputs": [],
   "source": [
    "sess.run(init) \n",
    "for i in range (100000):\n",
    "    sess.run(train_step, feed_dict = {x: X, y_: Y})\n",
    "    \n",
    "\n"
   ]
  },
  {
   "cell_type": "code",
   "execution_count": 230,
   "metadata": {},
   "outputs": [
    {
     "name": "stdout",
     "output_type": "stream",
     "text": [
      "[[ 0.05574069]]\n",
      "[[-2.58725643  5.1966815 ]\n",
      " [-2.7102406   4.95320129]]\n"
     ]
    }
   ],
   "source": [
    "print(sess.run(y, feed_dict={x:[[0.8,0.5]]}))\n",
    "print(sess.run(W_layer2, feed_dict={x: X, y_: Y}))"
   ]
  },
  {
   "cell_type": "code",
   "execution_count": 231,
   "metadata": {},
   "outputs": [
    {
     "name": "stdout",
     "output_type": "stream",
     "text": [
      "1.0\n"
     ]
    }
   ],
   "source": [
    "correct_prediction = tf.equal(tf.round(y),y_) # aca estams definiendo otras operacioes\n",
    "accuracy = tf.reduce_mean(tf.cast(correct_prediction, tf.float32))\n",
    "print(sess.run(accuracy, feed_dict={x: X, y_: Y})) # las corremos"
   ]
  },
  {
   "cell_type": "code",
   "execution_count": 232,
   "metadata": {},
   "outputs": [],
   "source": [
    "w1=[sess.run(b_layer1, feed_dict={x: X, y_: Y})[0]]+[i[0] for i in sess.run(W_layer1, feed_dict={x: X, y_: Y})]\n",
    "w2=[sess.run(b_layer2, feed_dict={x: X, y_: Y})[0]]+[i[0] for i in sess.run(W_layer2, feed_dict={x: X, y_: Y})]\n",
    "w3=[sess.run(b_layer3, feed_dict={x: X, y_: Y})[0]]+[i[0] for i in sess.run(W_layer3, feed_dict={x: X, y_: Y})]"
   ]
  },
  {
   "cell_type": "code",
   "execution_count": 233,
   "metadata": {},
   "outputs": [
    {
     "name": "stdout",
     "output_type": "stream",
     "text": [
      "[-2.1619887, 3.8354115, -4.0511904]\n",
      "[1.2606032, -2.5872564, -2.7102406]\n",
      "[-1.778995, -4.5510311, 7.9942608]\n"
     ]
    }
   ],
   "source": [
    "print w1\n",
    "print w2\n",
    "print w3\n",
    "\n"
   ]
  },
  {
   "cell_type": "code",
   "execution_count": 209,
   "metadata": {},
   "outputs": [],
   "source": [
    "sess.close()"
   ]
  },
  {
   "cell_type": "code",
   "execution_count": null,
   "metadata": {},
   "outputs": [],
   "source": []
  },
  {
   "cell_type": "code",
   "execution_count": null,
   "metadata": {
    "collapsed": true
   },
   "outputs": [],
   "source": []
  }
 ],
 "metadata": {
  "kernelspec": {
   "display_name": "Python 2",
   "language": "python",
   "name": "python2"
  },
  "language_info": {
   "codemirror_mode": {
    "name": "ipython",
    "version": 2
   },
   "file_extension": ".py",
   "mimetype": "text/x-python",
   "name": "python",
   "nbconvert_exporter": "python",
   "pygments_lexer": "ipython2",
   "version": "2.7.10"
  }
 },
 "nbformat": 4,
 "nbformat_minor": 2
}
